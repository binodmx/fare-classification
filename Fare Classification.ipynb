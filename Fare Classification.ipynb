{
  "nbformat": 4,
  "nbformat_minor": 0,
  "metadata": {
    "colab": {
      "name": "160278M Fare Classification Submission.ipynb",
      "provenance": []
    },
    "kernelspec": {
      "name": "python3",
      "display_name": "Python 3"
    }
  },
  "cells": [
    {
      "cell_type": "markdown",
      "metadata": {
        "id": "Mx9HaoqRuROa",
        "colab_type": "text"
      },
      "source": [
        "# initialization"
      ]
    },
    {
      "cell_type": "code",
      "metadata": {
        "id": "zXZi5ua7ijLv",
        "colab_type": "code",
        "colab": {}
      },
      "source": [
        "from google.colab import drive\n",
        "drive.mount('/content/drive')"
      ],
      "execution_count": null,
      "outputs": []
    },
    {
      "cell_type": "code",
      "metadata": {
        "id": "sO5vooV9sXBC",
        "colab_type": "code",
        "colab": {}
      },
      "source": [
        "import numpy as np\n",
        "import pandas as pd\n",
        "import matplotlib.pyplot as plt\n",
        "import time\n",
        "import tensorflow as tf\n",
        "from sklearn.model_selection import train_test_split"
      ],
      "execution_count": null,
      "outputs": []
    },
    {
      "cell_type": "markdown",
      "metadata": {
        "id": "QtCPxdBqWkyV",
        "colab_type": "text"
      },
      "source": [
        "# explore data"
      ]
    },
    {
      "cell_type": "code",
      "metadata": {
        "id": "uvFKCh7GsmpS",
        "colab_type": "code",
        "colab": {}
      },
      "source": [
        "train_set = pd.read_csv('train.csv', index_col='tripid')"
      ],
      "execution_count": null,
      "outputs": []
    },
    {
      "cell_type": "code",
      "metadata": {
        "id": "CGvaXCzvtLJC",
        "colab_type": "code",
        "colab": {}
      },
      "source": [
        "train_set.head()"
      ],
      "execution_count": null,
      "outputs": []
    },
    {
      "cell_type": "code",
      "metadata": {
        "id": "18KY8oTU2Pdw",
        "colab_type": "code",
        "colab": {}
      },
      "source": [
        "train_set.tail()"
      ],
      "execution_count": null,
      "outputs": []
    },
    {
      "cell_type": "code",
      "metadata": {
        "id": "0LQiu_51ODcH",
        "colab_type": "code",
        "colab": {}
      },
      "source": [
        "train_set.describe()"
      ],
      "execution_count": null,
      "outputs": []
    },
    {
      "cell_type": "markdown",
      "metadata": {
        "id": "ynas78MoXh9D",
        "colab_type": "text"
      },
      "source": [
        "# distance"
      ]
    },
    {
      "cell_type": "code",
      "metadata": {
        "id": "hLoS8-Y5M6lT",
        "colab_type": "code",
        "colab": {}
      },
      "source": [
        "def distance(pick_lat, pick_lon, drop_lat, drop_lon):\n",
        "  R = 6371\n",
        "\n",
        "  pick_lat = pick_lat * np.pi / 180\n",
        "  drop_lat = drop_lat * np.pi / 180\n",
        "  pick_lon = pick_lon * np.pi / 180\n",
        "  drop_lon = drop_lon * np.pi / 180\n",
        "\n",
        "  diff_lat = drop_lat - pick_lat\n",
        "  diff_lon = drop_lon - pick_lon\n",
        "\n",
        "  a = np.sin(diff_lat / 2) * np.sin(diff_lat / 2) + np.cos(pick_lat) * np.cos(drop_lat) * np.sin(diff_lon / 2) * np.sin(diff_lon / 2)\n",
        "  c = 2 * np.arctan2(np.sqrt(a), np.sqrt(1 - a))\n",
        "\n",
        "  # distance in km\n",
        "  d = R * c\n",
        "\n",
        "  return d"
      ],
      "execution_count": null,
      "outputs": []
    },
    {
      "cell_type": "markdown",
      "metadata": {
        "id": "QjC4YDTrYx9C",
        "colab_type": "text"
      },
      "source": [
        "# change train set"
      ]
    },
    {
      "cell_type": "code",
      "metadata": {
        "id": "prHxoJitVz8-",
        "colab_type": "code",
        "colab": {}
      },
      "source": [
        "format = '%m/%d/%Y %H:%M'\n",
        "\n",
        "train_set = pd.read_csv('/content/drive/My Drive/Academic/Semester 7/CS4622 Machine Learning/Assignments/160278M Fare Classification/train.csv', index_col='tripid')\n",
        "train_set['duration'] = train_set.apply(lambda row: time.mktime(time.strptime(row['drop_time'], format)) - time.mktime(time.strptime(row['pickup_time'], format)) + row['meter_waiting'] + row['meter_waiting_till_pickup'] if np.isnan(row['duration']) else row['duration'], axis=1)\n",
        "train_set['fare'] = train_set.apply(lambda row:  -1 if np.isnan(row['fare']) else row['fare'], axis=1)\n",
        "train_set.label.replace(to_replace=dict(correct=1, incorrect=0), inplace=True)\n",
        "\n",
        "train_set['pickup_month'] = train_set.apply(lambda row: int(str(row['pickup_time']).split()[0].split('/')[0]), axis=1)\n",
        "train_set['pickup_day'] = train_set.apply(lambda row: int(str(row['pickup_time']).split()[0].split('/')[1]), axis=1)\n",
        "train_set['pickup_hour'] = train_set.apply(lambda row: int(str(row['pickup_time']).split()[1].split(':')[0]), axis=1)\n",
        "train_set['pickup_minute'] = train_set.apply(lambda row: int(str(row['pickup_time']).split()[1].split(':')[1]), axis=1)\n",
        "\n",
        "train_set['drop_month'] = train_set.apply(lambda row: int(str(row['drop_time']).split()[0].split('/')[0]), axis=1)\n",
        "train_set['drop_day'] = train_set.apply(lambda row: int(str(row['drop_time']).split()[0].split('/')[1]), axis=1)\n",
        "train_set['drop_hour'] = train_set.apply(lambda row: int(str(row['drop_time']).split()[1].split(':')[0]), axis=1)\n",
        "train_set['drop_minute'] = train_set.apply(lambda row: int(str(row['drop_time']).split()[1].split(':')[1]), axis=1)\n",
        "\n",
        "train_set.drop(train_set[train_set['pick_lat'] < 5.9].index, inplace=True)\n",
        "train_set.drop(train_set[train_set['pick_lat'] > 9.8].index, inplace=True)\n",
        "train_set.drop(train_set[train_set['pick_lon'] < 79.7].index, inplace=True)\n",
        "train_set.drop(train_set[train_set['pick_lon'] > 81.8].index, inplace=True)\n",
        "train_set.drop(train_set[train_set['drop_lat'] < 5.9].index, inplace=True)\n",
        "train_set.drop(train_set[train_set['drop_lat'] > 9.8].index, inplace=True)\n",
        "train_set.drop(train_set[train_set['drop_lon'] < 79.7].index, inplace=True)\n",
        "train_set.drop(train_set[train_set['drop_lon'] > 81.8].index, inplace=True)\n",
        "\n",
        "train_set['distance'] = distance(train_set['pick_lat'], train_set['pick_lon'], train_set['drop_lat'], train_set['drop_lon'])\n",
        "train_set['average_speed'] = train_set.apply(lambda row: -1 if (row['duration'] - row['meter_waiting'] - row['meter_waiting_till_pickup']) <= 0 else row['distance'] / (row['duration'] - row['meter_waiting'] - row['meter_waiting_till_pickup']) * 3600, axis=1)\n",
        "train_set['unit_riding_fare'] = train_set.apply(lambda row: -1 if row['distance'] <= 0 else (row['fare'] - row['meter_waiting_fare']) / row['distance'], axis=1)\n",
        "train_set['unit_waiting_fare'] = train_set.apply(lambda row: 0 if row['meter_waiting'] == 0 else (row['meter_waiting_fare']) / row['meter_waiting'] * 60, axis=1)\n",
        "\n",
        "train_set = train_set.drop(['pickup_time', 'drop_time'], axis=1)"
      ],
      "execution_count": null,
      "outputs": []
    },
    {
      "cell_type": "markdown",
      "metadata": {
        "id": "mT3f-TpWj6V2",
        "colab_type": "text"
      },
      "source": [
        "# change test set"
      ]
    },
    {
      "cell_type": "code",
      "metadata": {
        "id": "j176FHeBj_g8",
        "colab_type": "code",
        "colab": {}
      },
      "source": [
        "format = '%m/%d/%Y %H:%M'\n",
        "\n",
        "test_set = pd.read_csv('/content/drive/My Drive/Academic/Semester 7/CS4622 Machine Learning/Assignments/160278M Fare Classification/test.csv', index_col='tripid')\n",
        "test_set['duration'] = test_set.apply(lambda row: time.mktime(time.strptime(row['drop_time'], format)) - time.mktime(time.strptime(row['pickup_time'], format)) + row['meter_waiting'] + row['meter_waiting_till_pickup'] if np.isnan(row['duration']) else row['duration'], axis=1)\n",
        "test_set['fare'] = test_set.apply(lambda row:  -1 if np.isnan(row['fare']) else row['fare'], axis=1)\n",
        "\n",
        "test_set['pickup_month'] = test_set.apply(lambda row: int(str(row['pickup_time']).split()[0].split('/')[0]), axis=1)\n",
        "test_set['pickup_day'] = test_set.apply(lambda row: int(str(row['pickup_time']).split()[0].split('/')[1]), axis=1)\n",
        "test_set['pickup_hour'] = test_set.apply(lambda row: int(str(row['pickup_time']).split()[1].split(':')[0]), axis=1)\n",
        "test_set['pickup_minute'] = test_set.apply(lambda row: int(str(row['pickup_time']).split()[1].split(':')[1]), axis=1)\n",
        "\n",
        "test_set['drop_month'] = test_set.apply(lambda row: int(str(row['drop_time']).split()[0].split('/')[0]), axis=1)\n",
        "test_set['drop_day'] = test_set.apply(lambda row: int(str(row['drop_time']).split()[0].split('/')[1]), axis=1)\n",
        "test_set['drop_hour'] = test_set.apply(lambda row: int(str(row['drop_time']).split()[1].split(':')[0]), axis=1)\n",
        "test_set['drop_minute'] = test_set.apply(lambda row: int(str(row['drop_time']).split()[1].split(':')[1]), axis=1)\n",
        "\n",
        "test_set.drop(test_set[test_set['pick_lat'] < 5.9].index, inplace=True)\n",
        "test_set.drop(test_set[test_set['pick_lat'] > 9.8].index, inplace=True)\n",
        "test_set.drop(test_set[test_set['pick_lon'] < 79.7].index, inplace=True)\n",
        "test_set.drop(test_set[test_set['pick_lon'] > 81.8].index, inplace=True)\n",
        "test_set.drop(test_set[test_set['drop_lat'] < 5.9].index, inplace=True)\n",
        "test_set.drop(test_set[test_set['drop_lat'] > 9.8].index, inplace=True)\n",
        "test_set.drop(test_set[test_set['drop_lon'] < 79.7].index, inplace=True)\n",
        "test_set.drop(test_set[test_set['drop_lon'] > 81.8].index, inplace=True)\n",
        "\n",
        "test_set['distance'] = distance(test_set['pick_lat'], test_set['pick_lon'], test_set['drop_lat'], test_set['drop_lon'])\n",
        "test_set['average_speed'] = test_set.apply(lambda row: -1 if (row['duration'] - row['meter_waiting'] - row['meter_waiting_till_pickup']) <= 0 else row['distance'] / (row['duration'] - row['meter_waiting'] - row['meter_waiting_till_pickup']) * 3600, axis=1)\n",
        "test_set['unit_riding_fare'] = test_set.apply(lambda row: -1 if row['distance'] <= 0 else (row['fare'] - row['meter_waiting_fare']) / row['distance'], axis=1)\n",
        "test_set['unit_waiting_fare'] = test_set.apply(lambda row: 0 if row['meter_waiting'] == 0 else (row['meter_waiting_fare']) / row['meter_waiting'] * 60, axis=1)\n",
        "\n",
        "test_set = test_set.drop(['pickup_time', 'drop_time'], axis=1)"
      ],
      "execution_count": null,
      "outputs": []
    },
    {
      "cell_type": "markdown",
      "metadata": {
        "id": "uQK33_ck5Aco",
        "colab_type": "text"
      },
      "source": [
        "# catboost"
      ]
    },
    {
      "cell_type": "code",
      "metadata": {
        "id": "_97SGlHIZseY",
        "colab_type": "code",
        "colab": {}
      },
      "source": [
        "x = train_set.drop(columns=['label'], axis=1)\n",
        "y = train_set['label']"
      ],
      "execution_count": null,
      "outputs": []
    },
    {
      "cell_type": "code",
      "metadata": {
        "id": "hTQ9ocLy4vsU",
        "colab_type": "code",
        "colab": {}
      },
      "source": [
        "!pip install catboost\n",
        "from catboost import CatBoostClassifier, Pool\n",
        "\n",
        "# initialize data\n",
        "model = CatBoostClassifier(iterations=100000)\n",
        "\n",
        "# train the model\n",
        "model.fit(x, y, verbose=False, plot=True)\n",
        "model.get_all_params()\n",
        "\n",
        "# save the model\n",
        "model_path = '/content/drive/My Drive/'\n",
        "model.save_model(model_path)\n",
        "\n",
        "# make the prediction using the resulting model\n",
        "preds_class = model.predict(test_set)\n",
        "preds_proba = model.predict_proba(test_set)"
      ],
      "execution_count": null,
      "outputs": []
    },
    {
      "cell_type": "code",
      "metadata": {
        "id": "B7z_qwyM5plU",
        "colab_type": "code",
        "colab": {}
      },
      "source": [
        "fo = open('results.csv', 'w')\n",
        "fo.write('tripid,prediction\\n')\n",
        "for i in range(len(test_set)):\n",
        "  fo.write(str(test_set.index[i]) + ',' + str(preds_class[i]) + '\\n')\n",
        "fo.close()"
      ],
      "execution_count": null,
      "outputs": []
    }
  ]
}